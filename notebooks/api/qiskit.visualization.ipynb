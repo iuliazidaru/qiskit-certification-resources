{
 "cells": [
  {
   "cell_type": "markdown",
   "metadata": {
    "collapsed": true,
    "pycharm": {
     "name": "#%% md\n"
    }
   },
   "source": [
    "https://qiskit.org/documentation/apidoc/visualization.html\n",
    "\n",
    "![Doc](resources/Vizualizations.png)\n",
    "![Doc](resources/PlotMap.png)\n",
    "![Doc](resources/ArrayToLatex.png)"
   ]
  },
  {
   "cell_type": "markdown",
   "source": [
    "Plot_circuit_layout"
   ],
   "metadata": {
    "collapsed": false,
    "pycharm": {
     "name": "#%% md\n"
    }
   }
  },
  {
   "cell_type": "code",
   "execution_count": 3,
   "outputs": [
    {
     "name": "stderr",
     "output_type": "stream",
     "text": [
      "ibmqfactory.load_account:WARNING:2021-08-24 12:16:09,279: Credentials are already in use. The existing account in the session will be replaced.\n"
     ]
    },
    {
     "data": {
      "text/plain": "<Figure size 360x360 with 1 Axes>",
      "image/png": "[encoded data removed]"
     },
     "execution_count": 3,
     "metadata": {},
     "output_type": "execute_result"
    }
   ],
   "source": [
    "import numpy as np\n",
    "from qiskit import QuantumCircuit, IBMQ, transpile\n",
    "from qiskit.visualization import plot_histogram, plot_gate_map, plot_circuit_layout\n",
    "from qiskit.tools.monitor import job_monitor\n",
    "import matplotlib.pyplot as plt\n",
    "%matplotlib inline\n",
    "\n",
    "IBMQ.load_account()\n",
    "\n",
    "ghz = QuantumCircuit(3, 3)\n",
    "ghz.h(0)\n",
    "for idx in range(1,3):\n",
    "    ghz.cx(0,idx)\n",
    "ghz.measure(range(3), range(3))\n",
    "\n",
    "provider = IBMQ.get_provider(hub='ibm-q')\n",
    "backend = provider.get_backend('ibmq_quito')\n",
    "new_circ_lv3 = transpile(ghz, backend=backend, optimization_level=3)\n",
    "plot_circuit_layout(new_circ_lv3, backend)"
   ],
   "metadata": {
    "collapsed": false,
    "pycharm": {
     "name": "#%%\n"
    }
   }
  }
 ],
 "metadata": {
  "kernelspec": {
   "display_name": "Python 3",
   "language": "python",
   "name": "python3"
  },
  "language_info": {
   "codemirror_mode": {
    "name": "ipython",
    "version": 2
   },
   "file_extension": ".py",
   "mimetype": "text/x-python",
   "name": "python",
   "nbconvert_exporter": "python",
   "pygments_lexer": "ipython2",
   "version": "2.7.6"
  }
 },
 "nbformat": 4,
 "nbformat_minor": 0
}