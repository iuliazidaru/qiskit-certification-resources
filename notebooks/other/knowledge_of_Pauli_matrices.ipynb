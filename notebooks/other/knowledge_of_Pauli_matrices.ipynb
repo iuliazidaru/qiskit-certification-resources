{
 "cells": [
  {
   "cell_type": "markdown",
   "metadata": {
    "collapsed": true,
    "pycharm": {
     "name": "#%% md\n"
    }
   },
   "source": [
    "![Doc](resources/PauliMatrices.png)\n",
    "https://qiskit.org/documentation/stubs/qiskit.quantum_info.Pauli.html\n",
    "![Doc](resources/Qiskit-Pauli.png)\n",
    "https://nbviewer.jupyter.org/github/qiskit-community/qiskit-advocate-test/blob/master/solutions/2_advanced_circuits.ipynb"
   ]
  },
  {
   "cell_type": "code",
   "execution_count": 9,
   "outputs": [],
   "source": [
    "import qiskit.quantum_info as qi\n",
    "from qiskit import QuantumCircuit\n",
    "\n",
    "from qiskit_textbook.tools import array_to_latex"
   ],
   "metadata": {
    "collapsed": false,
    "pycharm": {
     "name": "#%%\n"
    }
   }
  },
  {
   "cell_type": "code",
   "execution_count": 5,
   "outputs": [
    {
     "data": {
      "text/plain": "<IPython.core.display.Math object>",
      "text/latex": "$\\displaystyle \n\\begin{bmatrix}\n0 & 0 & 1 & 0  \\\\\n0 & 0 & 0 & -1  \\\\\n1 & 0 & 0 & 0  \\\\\n0 & -1 & 0 & 0  \\\\\n\\end{bmatrix}\n$$\n$"
     },
     "metadata": {},
     "output_type": "display_data"
    },
    {
     "name": "stdout",
     "output_type": "stream",
     "text": [
      "[[ 0.+0.j  0.+0.j  1.+0.j  0.+0.j]\n",
      " [ 0.+0.j  0.+0.j  0.+0.j -1.+0.j]\n",
      " [ 1.+0.j  0.+0.j  0.+0.j  0.+0.j]\n",
      " [ 0.+0.j -1.+0.j  0.+0.j  0.+0.j]]\n"
     ]
    }
   ],
   "source": [
    "U_adv4_1 = qi.Operator(qi.Pauli(label='XZ'))\n",
    "array_to_latex(U_adv4_1.data) # If array_to_latex not installed, comment out and use print() command below\n",
    "print(U_adv4_1.data)"
   ],
   "metadata": {
    "collapsed": false,
    "pycharm": {
     "name": "#%%\n"
    }
   }
  },
  {
   "cell_type": "code",
   "execution_count": 6,
   "outputs": [
    {
     "data": {
      "text/plain": "<IPython.core.display.Math object>",
      "text/latex": "$\\displaystyle \n\\begin{bmatrix}\n0 & 0 & 1 & 0  \\\\\n0 & 0 & 0 & -1  \\\\\n1 & 0 & 0 & 0  \\\\\n0 & -1 & 0 & 0  \\\\\n\\end{bmatrix}\n$$\n$"
     },
     "metadata": {},
     "output_type": "display_data"
    }
   ],
   "source": [
    "U_adv4_2 = qi.Operator(qi.Pauli(label='X')).tensor(qi.Operator(qi.Pauli(label='Z')))\n",
    "array_to_latex(U_adv4_2.data) # If array_to_latex not installed, comment out and use print() command below\n",
    "print(U_adv4_2.data)"
   ],
   "metadata": {
    "collapsed": false,
    "pycharm": {
     "name": "#%%\n"
    }
   }
  },
  {
   "cell_type": "code",
   "execution_count": 11,
   "outputs": [
    {
     "data": {
      "text/plain": "<IPython.core.display.Math object>",
      "text/latex": "$\\displaystyle \n\\begin{bmatrix}\n0 & 1 & 0 & 0  \\\\\n1 & 0 & 0 & 0  \\\\\n0 & 0 & 0 & -1  \\\\\n0 & 0 & -1 & 0  \\\\\n\\end{bmatrix}\n$$\n$"
     },
     "metadata": {},
     "output_type": "display_data"
    },
    {
     "name": "stdout",
     "output_type": "stream",
     "text": [
      "[[ 0.+0.j  1.+0.j  0.+0.j  0.+0.j]\n",
      " [ 1.+0.j  0.+0.j  0.+0.j  0.+0.j]\n",
      " [ 0.+0.j  0.+0.j  0.+0.j -1.+0.j]\n",
      " [ 0.+0.j  0.+0.j -1.+0.j  0.+0.j]]\n"
     ]
    }
   ],
   "source": [
    "qc_adv4_3 = QuantumCircuit(2)\n",
    "qc_adv4_3.x(0)\n",
    "qc_adv4_3.z(1)\n",
    "U_adv4_3 = qi.Operator(qc_adv4_3)\n",
    "array_to_latex(U_adv4_3.data) # If array_to_latex not installed, comment out and use print() command below\n",
    "print(U_adv4_3.data)"
   ],
   "metadata": {
    "collapsed": false,
    "pycharm": {
     "name": "#%%\n"
    }
   }
  },
  {
   "cell_type": "code",
   "execution_count": 10,
   "outputs": [
    {
     "data": {
      "text/plain": "<IPython.core.display.Math object>",
      "text/latex": "$\\displaystyle \n\\begin{bmatrix}\n0 & 0 & 1 & 0  \\\\\n0 & 0 & 0 & -1  \\\\\n1 & 0 & 0 & 0  \\\\\n0 & -1 & 0 & 0  \\\\\n\\end{bmatrix}\n$$\n$"
     },
     "metadata": {},
     "output_type": "display_data"
    },
    {
     "name": "stdout",
     "output_type": "stream",
     "text": [
      "[[ 0.+0.j  0.+0.j  1.+0.j  0.+0.j]\n",
      " [ 0.+0.j  0.+0.j  0.+0.j -1.+0.j]\n",
      " [ 1.+0.j  0.+0.j  0.+0.j  0.+0.j]\n",
      " [ 0.+0.j -1.+0.j  0.+0.j  0.+0.j]]\n"
     ]
    }
   ],
   "source": [
    "U_adv4_4 = qi.Operator([[0, 0, 1, 0], [0, 0, 0, -1], [1, 0, 0, 0], [0, -1, 0, 0]])\n",
    "array_to_latex(U_adv4_4.data) # If array_to_latex not installed, comment out and use print() command below\n",
    "print(U_adv4_4.data)"
   ],
   "metadata": {
    "collapsed": false,
    "pycharm": {
     "name": "#%%\n"
    }
   }
  }
 ],
 "metadata": {
  "kernelspec": {
   "display_name": "Python 3",
   "language": "python",
   "name": "python3"
  },
  "language_info": {
   "codemirror_mode": {
    "name": "ipython",
    "version": 3
   },
   "file_extension": ".py",
   "mimetype": "text/x-python",
   "name": "python",
   "nbconvert_exporter": "python",
   "pygments_lexer": "ipython3",
   "version": "3.9.2"
  }
 },
 "nbformat": 4,
 "nbformat_minor": 1
}