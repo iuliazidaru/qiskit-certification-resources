{
 "cells": [
  {
   "cell_type": "markdown",
   "metadata": {
    "collapsed": true,
    "pycharm": {
     "name": "#%% md\n"
    }
   },
   "source": [
    "# Read a QASM file\n",
    "\n",
    "https://medium.com/qiskit/a-new-openqasm-for-a-new-era-of-dynamic-circuits-87f031cac49\n",
    "\n",
    "https://qiskit.org/documentation/stubs/qiskit.qasm.Qasm.html\n",
    "\n",
    "https://qiskit.org/documentation/apidoc/qasm.html\n",
    "\n",
    "https://github.com/Qiskit/openqasm\n",
    "\n",
    "https://arxiv.org/pdf/1809.03452.pdf\n",
    "\n",
    "![Doc](resources/QASM.png)\n",
    "\n",
    "![Doc](resources/QASM2.png)\n",
    "\n",
    "![Doc](resources/QASM3.png)"
   ]
  },
  {
   "cell_type": "code",
   "execution_count": 2,
   "metadata": {
    "pycharm": {
     "name": "#%%\n"
    }
   },
   "outputs": [
    {
     "data": {
      "text/plain": "     ┌───┐┌───┐\nq_0: ┤ H ├┤ Z ├\n     └───┘└───┘\nc: 1/══════════\n               ",
      "text/html": "<pre style=\"word-wrap: normal;white-space: pre;background: #fff0;line-height: 1.1;font-family: &quot;Courier New&quot;,Courier,monospace\">     ┌───┐┌───┐\nq_0: ┤ H ├┤ Z ├\n     └───┘└───┘\nc: 1/══════════\n               </pre>"
     },
     "execution_count": 2,
     "metadata": {},
     "output_type": "execute_result"
    }
   ],
   "source": [
    "from qiskit import QuantumCircuit\n",
    "qasm_str = \"\"\"\n",
    "OPENQASM 2.0;\n",
    "include \"qelib1.inc\";\n",
    "\n",
    "qreg q[1];\n",
    "creg c[1];\n",
    "\n",
    "h q[0];\n",
    "z q[0];\"\"\"\n",
    "\n",
    "qc = QuantumCircuit.from_qasm_str(qasm_str)\n",
    "qc.draw()"
   ]
  },
  {
   "cell_type": "code",
   "execution_count": 3,
   "metadata": {
    "pycharm": {
     "name": "#%%\n"
    }
   },
   "outputs": [
    {
     "name": "stdout",
     "output_type": "stream",
     "text": [
      "\u001B[92mOPENQASM\u001B[39m \u001B[96m2\u001B[39m.\u001B[96m0\u001B[39m;\n",
      "\u001B[92minclude\u001B[39m\u001B[91m \"qelib1.inc\"\u001B[39m;\n",
      "\u001B[92mqreg\u001B[39m q[\u001B[96m1\u001B[39m];\n",
      "\u001B[92mcreg\u001B[39m c[\u001B[96m1\u001B[39m];\n",
      "\u001B[95mh\u001B[39m q[\u001B[96m0\u001B[39m];\n",
      "\u001B[95mz\u001B[39m q[\u001B[96m0\u001B[39m];\n",
      "\n"
     ]
    }
   ],
   "source": [
    "qc.qasm(formatted=True)"
   ]
  },
  {
   "cell_type": "code",
   "execution_count": 4,
   "outputs": [
    {
     "data": {
      "text/plain": "str"
     },
     "execution_count": 4,
     "metadata": {},
     "output_type": "execute_result"
    }
   ],
   "source": [
    "qc.qasm().__class__"
   ],
   "metadata": {
    "collapsed": false,
    "pycharm": {
     "name": "#%%\n"
    }
   }
  }
 ],
 "metadata": {
  "kernelspec": {
   "display_name": "Python 3",
   "language": "python",
   "name": "python3"
  },
  "language_info": {
   "codemirror_mode": {
    "name": "ipython",
    "version": 3
   },
   "file_extension": ".py",
   "mimetype": "text/x-python",
   "name": "python",
   "nbconvert_exporter": "python",
   "pygments_lexer": "ipython3",
   "version": "3.9.2"
  }
 },
 "nbformat": 4,
 "nbformat_minor": 1
}