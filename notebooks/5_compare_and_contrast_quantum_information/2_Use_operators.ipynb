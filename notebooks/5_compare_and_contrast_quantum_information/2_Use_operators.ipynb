{
 "cells": [
  {
   "cell_type": "markdown",
   "metadata": {
    "collapsed": true,
    "pycharm": {
     "name": "#%% md\n"
    }
   },
   "source": [
    "https://qiskit.org/documentation/tutorials/circuits_advanced/02_operators_overview.html\n",
    "\n",
    "https://nbviewer.jupyter.org/github/qiskit-community/qiskit-advocate-test/blob/master/solutions/5_simulators.ipynb\n",
    "\n",
    "![Doc](resources/Operator.png)\n",
    "![Doc](resources/OperatorFromLabel.png)\n",
    "\n",
    "https://qiskit.org/documentation/tutorials/operators/01_operator_flow.html"
   ]
  },
  {
   "cell_type": "markdown",
   "metadata": {
    "pycharm": {
     "name": "#%% md\n"
    }
   },
   "source": [
    "#Pauli\n",
    "![Doc](resources/Pauli.png)\n",
    "![Doc](resources/PauliAnticomute.png)\n",
    "![Doc](resources/PauliTable.png)"
   ]
  },
  {
   "cell_type": "code",
   "execution_count": 2,
   "metadata": {
    "pycharm": {
     "name": "#%%\n"
    }
   },
   "outputs": [],
   "source": [
    "import qiskit.quantum_info as qi\n",
    "from qiskit import QuantumCircuit\n",
    "import qiskit.circuit.library as qulib"
   ]
  },
  {
   "cell_type": "code",
   "execution_count": 7,
   "metadata": {
    "pycharm": {
     "name": "#%%\n"
    }
   },
   "outputs": [
    {
     "data": {
      "image/png": "[encoded data removed]",
      "text/plain": [
       "<Figure size 206.852x144.48 with 1 Axes>"
      ]
     },
     "execution_count": 7,
     "metadata": {},
     "output_type": "execute_result"
    }
   ],
   "source": [
    "qc_hp4 = QuantumCircuit(2)\n",
    "qc_hp4.h(0)\n",
    "qc_hp4.cx(0,1)\n",
    "qc_hp4.draw('mpl')\n"
   ]
  },
  {
   "cell_type": "code",
   "execution_count": 8,
   "metadata": {
    "pycharm": {
     "name": "#%%\n"
    }
   },
   "outputs": [
    {
     "name": "stdout",
     "output_type": "stream",
     "text": [
      "[[ 0.70710678+0.j  0.70710678+0.j  0.        +0.j  0.        +0.j]\n",
      " [ 0.        +0.j  0.        +0.j  0.70710678+0.j -0.70710678+0.j]\n",
      " [ 0.        +0.j  0.        +0.j  0.70710678+0.j  0.70710678+0.j]\n",
      " [ 0.70710678+0.j -0.70710678+0.j  0.        +0.j  0.        +0.j]]\n"
     ]
    }
   ],
   "source": [
    "unitary_hp4_1 = qi.Operator(qc_hp4)\n",
    "print(unitary_hp4_1.data)"
   ]
  },
  {
   "cell_type": "code",
   "execution_count": 13,
   "metadata": {
    "pycharm": {
     "name": "#%%\n"
    }
   },
   "outputs": [
    {
     "name": "stdout",
     "output_type": "stream",
     "text": [
      "[[ 0.70710678+0.j  0.70710678+0.j  0.        +0.j  0.        +0.j]\n",
      " [ 0.        +0.j  0.        +0.j  0.70710678+0.j -0.70710678+0.j]\n",
      " [ 0.        +0.j  0.        +0.j  0.70710678+0.j  0.70710678+0.j]\n",
      " [ 0.70710678+0.j -0.70710678+0.j  0.        +0.j  0.        +0.j]]\n"
     ]
    }
   ],
   "source": [
    "unitary_hp4_2 = qi.Operator.from_label('II').compose(qulib.HGate(), [0]).compose(qulib.CXGate(), [0, 1])\n",
    "print(unitary_hp4_2.data)"
   ]
  },
  {
   "cell_type": "code",
   "execution_count": 14,
   "metadata": {
    "pycharm": {
     "name": "#%%\n"
    }
   },
   "outputs": [
    {
     "ename": "QiskitError",
     "evalue": "'Label contains invalid characters.'",
     "output_type": "error",
     "traceback": [
      "\u001b[0;31m---------------------------------------------------------------------------\u001b[0m",
      "\u001b[0;31mQiskitError\u001b[0m                               Traceback (most recent call last)",
      "\u001b[0;32m<ipython-input-14-fc547eb289af>\u001b[0m in \u001b[0;36m<module>\u001b[0;34m\u001b[0m\n\u001b[0;32m----> 1\u001b[0;31m \u001b[0munitary_hp4_3\u001b[0m \u001b[0;34m=\u001b[0m \u001b[0mqi\u001b[0m\u001b[0;34m.\u001b[0m\u001b[0mOperator\u001b[0m\u001b[0;34m.\u001b[0m\u001b[0mfrom_label\u001b[0m\u001b[0;34m(\u001b[0m\u001b[0;34m'HI'\u001b[0m\u001b[0;34m)\u001b[0m \u001b[0;34m+\u001b[0m \u001b[0mqi\u001b[0m\u001b[0;34m.\u001b[0m\u001b[0mOperator\u001b[0m\u001b[0;34m.\u001b[0m\u001b[0mfrom_label\u001b[0m\u001b[0;34m(\u001b[0m\u001b[0;34m'CX'\u001b[0m\u001b[0;34m)\u001b[0m\u001b[0;34m\u001b[0m\u001b[0;34m\u001b[0m\u001b[0m\n\u001b[0m\u001b[1;32m      2\u001b[0m \u001b[0mprint\u001b[0m\u001b[0;34m(\u001b[0m\u001b[0munitary_hp4_3\u001b[0m\u001b[0;34m.\u001b[0m\u001b[0mdata\u001b[0m\u001b[0;34m)\u001b[0m\u001b[0;34m\u001b[0m\u001b[0;34m\u001b[0m\u001b[0m\n",
      "\u001b[0;32m~/opt/anaconda3/envs/qiskit-certification-resources/lib/python3.9/site-packages/qiskit/quantum_info/operators/operator.py\u001b[0m in \u001b[0;36mfrom_label\u001b[0;34m(cls, label)\u001b[0m\n\u001b[1;32m    178\u001b[0m         }\n\u001b[1;32m    179\u001b[0m         \u001b[0;32mif\u001b[0m \u001b[0mre\u001b[0m\u001b[0;34m.\u001b[0m\u001b[0mmatch\u001b[0m\u001b[0;34m(\u001b[0m\u001b[0;34mr'^[IXYZHST01rl\\-+]+$'\u001b[0m\u001b[0;34m,\u001b[0m \u001b[0mlabel\u001b[0m\u001b[0;34m)\u001b[0m \u001b[0;32mis\u001b[0m \u001b[0;32mNone\u001b[0m\u001b[0;34m:\u001b[0m\u001b[0;34m\u001b[0m\u001b[0;34m\u001b[0m\u001b[0m\n\u001b[0;32m--> 180\u001b[0;31m             \u001b[0;32mraise\u001b[0m \u001b[0mQiskitError\u001b[0m\u001b[0;34m(\u001b[0m\u001b[0;34m'Label contains invalid characters.'\u001b[0m\u001b[0;34m)\u001b[0m\u001b[0;34m\u001b[0m\u001b[0;34m\u001b[0m\u001b[0m\n\u001b[0m\u001b[1;32m    181\u001b[0m         \u001b[0;31m# Initialize an identity matrix and apply each gate\u001b[0m\u001b[0;34m\u001b[0m\u001b[0;34m\u001b[0m\u001b[0;34m\u001b[0m\u001b[0m\n\u001b[1;32m    182\u001b[0m         \u001b[0mnum_qubits\u001b[0m \u001b[0;34m=\u001b[0m \u001b[0mlen\u001b[0m\u001b[0;34m(\u001b[0m\u001b[0mlabel\u001b[0m\u001b[0;34m)\u001b[0m\u001b[0;34m\u001b[0m\u001b[0;34m\u001b[0m\u001b[0m\n",
      "\u001b[0;31mQiskitError\u001b[0m: 'Label contains invalid characters.'"
     ]
    }
   ],
   "source": [
    "unitary_hp4_3 = qi.Operator.from_label('HI') + qi.Operator.from_label('CX')\n",
    "print(unitary_hp4_3.data)"
   ]
  },
  {
   "cell_type": "code",
   "execution_count": 15,
   "metadata": {
    "pycharm": {
     "name": "#%%\n"
    }
   },
   "outputs": [
    {
     "name": "stdout",
     "output_type": "stream",
     "text": [
      "[[ 0.70710678+0.j  0.70710678+0.j  0.        +0.j  0.        +0.j]\n",
      " [ 0.        +0.j  0.        +0.j  0.70710678+0.j -0.70710678+0.j]\n",
      " [ 0.        +0.j  0.        +0.j  0.70710678+0.j  0.70710678+0.j]\n",
      " [ 0.70710678+0.j -0.70710678+0.j  0.        +0.j  0.        +0.j]]\n"
     ]
    }
   ],
   "source": [
    "unitary_hp4_4 = qi.Operator.from_label('II').compose(qc_hp4)\n",
    "print(unitary_hp4_4.data)\n"
   ]
  }
 ],
 "metadata": {
  "kernelspec": {
   "display_name": "Python 3",
   "language": "python",
   "name": "python3"
  },
  "language_info": {
   "codemirror_mode": {
    "name": "ipython",
    "version": 3
   },
   "file_extension": ".py",
   "mimetype": "text/x-python",
   "name": "python",
   "nbconvert_exporter": "python",
   "pygments_lexer": "ipython3",
   "version": "3.9.2"
  }
 },
 "nbformat": 4,
 "nbformat_minor": 1
}
