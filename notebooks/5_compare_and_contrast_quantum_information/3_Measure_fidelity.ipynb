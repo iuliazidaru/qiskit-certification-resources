{
 "cells": [
  {
   "cell_type": "markdown",
   "metadata": {
    "collapsed": true,
    "pycharm": {
     "name": "#%% md\n"
    }
   },
   "source": [
    "# Measure fidelity\n",
    "https://qiskit.org/documentation/stubs/qiskit.quantum_info.state_fidelity.html\n",
    "https://qiskit.org/documentation/apidoc/quantum_info.html\n",
    "\n",
    "https://qiskit.org/learn/intro-qc-qh/ lab 1\n",
    "\n",
    "![Doc](resources/sample19.png)\n",
    "![Doc](resources/state_fidelity.png)\n",
    "![Doc](resources/average_gate_fidelity.png)\n",
    "![Doc](resources/process_fidelity.png)\n",
    "\n",
    "https://qiskit.org/textbook/ch-quantum-hardware/density-matrix.html"
   ]
  },
  {
   "cell_type": "code",
   "execution_count": 4,
   "metadata": {
    "pycharm": {
     "name": "#%%\n"
    }
   },
   "outputs": [],
   "source": [
    "from qiskit import QuantumCircuit, BasicAer, execute\n",
    "from qiskit.quantum_info import Statevector, state_fidelity\n",
    "import numpy as np"
   ]
  },
  {
   "cell_type": "code",
   "execution_count": 2,
   "metadata": {
    "pycharm": {
     "name": "#%%\n"
    }
   },
   "outputs": [
    {
     "name": "stdout",
     "output_type": "stream",
     "text": [
      "Statevector([1.+0.j, 0.+0.j],\n",
      "            dims=(2,))\n",
      "Statevector([1.+0.j, 0.+0.j],\n",
      "            dims=(2,))\n"
     ]
    },
    {
     "data": {
      "text/plain": [
       "1.0"
      ]
     },
     "execution_count": 2,
     "metadata": {},
     "output_type": "execute_result"
    }
   ],
   "source": [
    "sv = Statevector.from_label(\"0\")\n",
    "new_sv = Statevector.from_label(\"0\")\n",
    "\n",
    "print(sv)\n",
    "print(new_sv)\n",
    "state_fidelity(new_sv, sv)"
   ]
  },
  {
   "cell_type": "code",
   "execution_count": 3,
   "metadata": {
    "pycharm": {
     "name": "#%%\n"
    }
   },
   "outputs": [
    {
     "name": "stdout",
     "output_type": "stream",
     "text": [
      "Statevector([1.+0.j, 0.+0.j],\n",
      "            dims=(2,))\n",
      "Statevector([1.+0.j, 0.+0.j],\n",
      "            dims=(2,))\n"
     ]
    },
    {
     "data": {
      "text/plain": [
       "0.0"
      ]
     },
     "execution_count": 3,
     "metadata": {},
     "output_type": "execute_result"
    }
   ],
   "source": [
    "circuit = QuantumCircuit(1)\n",
    "circuit.x(0)\n",
    "print(sv)\n",
    "print(new_sv)\n",
    "\n",
    "sv = Statevector.from_label(\"0\")\n",
    "new_sv = sv.evolve(circuit)\n",
    "\n",
    "\n",
    "state_fidelity(new_sv, sv)\n"
   ]
  },
  {
   "cell_type": "code",
   "execution_count": 9,
   "metadata": {
    "pycharm": {
     "name": "#%%\n"
    }
   },
   "outputs": [
    {
     "name": "stdout",
     "output_type": "stream",
     "text": [
      "Statevector([1.+0.j, 0.+0.j],\n",
      "            dims=(2,))\n",
      "Statevector([0.70710678+0.j, 0.70710678+0.j],\n",
      "            dims=(2,))\n"
     ]
    },
    {
     "data": {
      "text/plain": [
       "0.4999999999999999"
      ]
     },
     "execution_count": 9,
     "metadata": {},
     "output_type": "execute_result"
    }
   ],
   "source": [
    "circuit = QuantumCircuit(1)\n",
    "circuit.h(0)\n",
    "\n",
    "\n",
    "sv = Statevector.from_label(\"0\")\n",
    "new_sv = sv.evolve(circuit)\n",
    "print(sv)\n",
    "print(new_sv)\n",
    "\n",
    "state_fidelity(new_sv, sv)"
   ]
  },
  {
   "cell_type": "code",
   "execution_count": 11,
   "metadata": {
    "pycharm": {
     "name": "#%%\n"
    }
   },
   "outputs": [
    {
     "name": "stdout",
     "output_type": "stream",
     "text": [
      "Statevector([0.70710678+0.j, 0.70710678+0.j],\n",
      "            dims=(2,))\n",
      "Statevector([ 0.70710678+0.j, -0.70710678+0.j],\n",
      "            dims=(2,))\n"
     ]
    },
    {
     "data": {
      "text/plain": [
       "0.0"
      ]
     },
     "execution_count": 11,
     "metadata": {},
     "output_type": "execute_result"
    }
   ],
   "source": [
    "circuit = QuantumCircuit(1)\n",
    "circuit.h(0)\n",
    "\n",
    "circuit_new = QuantumCircuit(1)\n",
    "circuit_new.x(0)\n",
    "circuit_new.h(0)\n",
    "\n",
    "sv = Statevector.from_label(\"0\").evolve(circuit)\n",
    "new_sv = Statevector.from_label(\"0\").evolve(circuit_new)\n",
    "print(sv)\n",
    "print(new_sv)\n",
    "\n",
    "state_fidelity(new_sv, sv)"
   ]
  },
  {
   "cell_type": "code",
   "execution_count": 14,
   "metadata": {
    "pycharm": {
     "name": "#%%\n"
    }
   },
   "outputs": [
    {
     "name": "stdout",
     "output_type": "stream",
     "text": [
      "Statevector([0.5+0.j, 0.5+0.j, 0.5+0.j, 0.5+0.j],\n",
      "            dims=(2, 2))\n",
      "Statevector([1.+0.j, 0.+0.j, 0.+0.j, 0.+0.j],\n",
      "            dims=(2, 2))\n"
     ]
    },
    {
     "data": {
      "text/plain": [
       "0.2499999999999999"
      ]
     },
     "execution_count": 14,
     "metadata": {},
     "output_type": "execute_result"
    }
   ],
   "source": [
    "circuit = QuantumCircuit(2)\n",
    "circuit.h(0)\n",
    "circuit.h(1)\n",
    "\n",
    "sv = Statevector.from_label(\"00\").evolve(circuit)\n",
    "new_sv = Statevector.from_label(\"00\")\n",
    "print(sv)\n",
    "print(new_sv)\n",
    "\n",
    "state_fidelity(new_sv, sv)"
   ]
  },
  {
   "cell_type": "markdown",
   "source": [
    "State fidelity"
   ],
   "metadata": {
    "collapsed": false,
    "pycharm": {
     "name": "#%% md\n"
    }
   }
  },
  {
   "cell_type": "markdown",
   "source": [
    "Process and Gate fidelity"
   ],
   "metadata": {
    "collapsed": false,
    "pycharm": {
     "name": "#%% md\n"
    }
   }
  },
  {
   "cell_type": "code",
   "execution_count": 5,
   "outputs": [
    {
     "data": {
      "text/plain": "1.0"
     },
     "execution_count": 5,
     "metadata": {},
     "output_type": "execute_result"
    }
   ],
   "source": [
    "from qiskit.circuit.library import XGate\n",
    "from qiskit.quantum_info import Operator, average_gate_fidelity, process_fidelity\n",
    "op_a = Operator(XGate())\n",
    "op_b = np.exp(1j / 2) * op_a\n",
    "\n",
    "#these differ only by a phase so the gate and process\n",
    "#fidelities are expected to be 1\n",
    "\n",
    "a = average_gate_fidelity(op_a,op_b)\n",
    "a"
   ],
   "metadata": {
    "collapsed": false,
    "pycharm": {
     "name": "#%%\n"
    }
   }
  },
  {
   "cell_type": "code",
   "execution_count": 6,
   "outputs": [
    {
     "data": {
      "text/plain": "True"
     },
     "execution_count": 6,
     "metadata": {},
     "output_type": "execute_result"
    }
   ],
   "source": [
    "b = process_fidelity(op_a, op_b)\n",
    "a == b\n",
    "\n",
    "\n"
   ],
   "metadata": {
    "collapsed": false,
    "pycharm": {
     "name": "#%%\n"
    }
   }
  }
 ],
 "metadata": {
  "kernelspec": {
   "display_name": "Python 3",
   "language": "python",
   "name": "python3"
  },
  "language_info": {
   "codemirror_mode": {
    "name": "ipython",
    "version": 3
   },
   "file_extension": ".py",
   "mimetype": "text/x-python",
   "name": "python",
   "nbconvert_exporter": "python",
   "pygments_lexer": "ipython3",
   "version": "3.9.2"
  }
 },
 "nbformat": 4,
 "nbformat_minor": 1
}