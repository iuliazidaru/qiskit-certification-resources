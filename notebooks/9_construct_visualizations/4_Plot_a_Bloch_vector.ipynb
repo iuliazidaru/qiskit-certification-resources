{
 "cells": [
  {
   "cell_type": "code",
   "execution_count": null,
   "outputs": [],
   "source": [
    "from qiskit import QuantumCircuit\n",
    "from numpy import sqrt, pi, cos, sin\n",
    "from qiskit import Aer, assemble\n",
    "from qiskit.visualization import plot_bloch_vector\n",
    "from qiskit_textbook.widgets import plot_bloch_vector_spherical"
   ],
   "metadata": {
    "collapsed": false,
    "pycharm": {
     "name": "#%%\n"
    }
   }
  },
  {
   "cell_type": "code",
   "execution_count": null,
   "outputs": [],
   "source": [
    "from qiskit.visualization import plot_bloch_vector\n",
    "plot_bloch_vector([0,1,0])"
   ],
   "metadata": {
    "collapsed": false,
    "pycharm": {
     "name": "#%%\n"
    }
   }
  },
  {
   "cell_type": "code",
   "execution_count": null,
   "outputs": [],
   "source": [
    "plot_bloch_vector([0, 0, 1])"
   ],
   "metadata": {
    "collapsed": false,
    "pycharm": {
     "name": "#%%\n"
    }
   }
  },
  {
   "cell_type": "markdown",
   "source": [
    "Use `plot_bloch_vector()` or `plot_bloch_sphere_spherical()` to plot a qubit in the states:\n",
    "# 1. $|0\\rangle$"
   ],
   "metadata": {
    "collapsed": false
   }
  },
  {
   "cell_type": "code",
   "execution_count": null,
   "outputs": [],
   "source": [
    "plot_bloch_vector([0, 0, 1])"
   ],
   "metadata": {
    "collapsed": false,
    "pycharm": {
     "name": "#%%\n"
    }
   }
  },
  {
   "cell_type": "code",
   "execution_count": null,
   "outputs": [],
   "source": [
    "plot_bloch_vector_spherical([0, 0, 1]) #theta, phi, r"
   ],
   "metadata": {
    "collapsed": false,
    "pycharm": {
     "name": "#%%\n"
    }
   }
  },
  {
   "cell_type": "code",
   "execution_count": null,
   "outputs": [],
   "source": [
    "coords = [pi/2,0,1] # [Theta, Phi, Radius]\n"
   ],
   "metadata": {
    "collapsed": false,
    "pycharm": {
     "name": "#%%\n"
    }
   }
  },
  {
   "cell_type": "markdown",
   "source": [
    "# 2. $|1\\rangle$"
   ],
   "metadata": {
    "collapsed": false
   }
  },
  {
   "cell_type": "code",
   "execution_count": null,
   "outputs": [],
   "source": [
    "theta = pi/2\n",
    "phi = 0\n",
    "r = 1\n",
    "x = r*sin(theta)*cos(phi)\n",
    "y = r*sin(theta)*sin(phi)\n",
    "z = r*cos(theta)\n",
    "print(x)\n",
    "print(y)\n",
    "print(z)\n",
    "vector = [1, 0, 0]\n",
    "plot_bloch_vector(vector)"
   ],
   "metadata": {
    "collapsed": false,
    "pycharm": {
     "name": "#%%\n"
    }
   }
  },
  {
   "cell_type": "code",
   "execution_count": null,
   "outputs": [],
   "source": [
    "plot_bloch_vector_spherical([pi/2, 0, 1])"
   ],
   "metadata": {
    "collapsed": false,
    "pycharm": {
     "name": "#%%\n"
    }
   }
  },
  {
   "cell_type": "markdown",
   "source": [
    "# 3. $\\tfrac{1}{\\sqrt{2}}(|0\\rangle + |1\\rangle)$"
   ],
   "metadata": {
    "collapsed": false
   }
  },
  {
   "cell_type": "code",
   "execution_count": null,
   "outputs": [],
   "source": [
    "plot_bloch_vector([1, 0, 0])"
   ],
   "metadata": {
    "collapsed": false,
    "pycharm": {
     "name": "#%%\n"
    }
   }
  },
  {
   "cell_type": "code",
   "execution_count": null,
   "outputs": [],
   "source": [
    "plot_bloch_vector_spherical([pi/2, 0, 1])"
   ],
   "metadata": {
    "collapsed": false,
    "pycharm": {
     "name": "#%%\n"
    }
   }
  },
  {
   "cell_type": "markdown",
   "source": [
    "# 4. $\\tfrac{1}{\\sqrt{2}}(|0\\rangle - i|1\\rangle)$"
   ],
   "metadata": {
    "collapsed": false
   }
  },
  {
   "cell_type": "code",
   "execution_count": null,
   "outputs": [],
   "source": [
    "plot_bloch_vector([1, 0, 0])"
   ],
   "metadata": {
    "collapsed": false,
    "pycharm": {
     "name": "#%%\n"
    }
   }
  },
  {
   "cell_type": "code",
   "execution_count": null,
   "outputs": [],
   "source": [
    "plot_bloch_vector([0, -1, 0])"
   ],
   "metadata": {
    "collapsed": false,
    "pycharm": {
     "name": "#%%\n"
    }
   }
  },
  {
   "cell_type": "code",
   "execution_count": null,
   "outputs": [],
   "source": [
    "plot_bloch_vector_spherical([pi/2, 3* pi/ 2, 1])"
   ],
   "metadata": {
    "collapsed": false,
    "pycharm": {
     "name": "#%%\n"
    }
   }
  },
  {
   "cell_type": "markdown",
   "source": [
    "# 5. $\\tfrac{1}{\\sqrt{2}}\\begin{bmatrix}i\\\\1\\end{bmatrix}=\\tfrac{1}{\\sqrt{2}}(i|0\\rangle + |1\\rangle)=\\tfrac{i}{\\sqrt{2}}(|0\\rangle - i|1\\rangle)$"
   ],
   "metadata": {
    "collapsed": false
   }
  },
  {
   "cell_type": "code",
   "execution_count": null,
   "outputs": [],
   "source": [
    "plot_bloch_vector([1, 0, 0])"
   ],
   "metadata": {
    "collapsed": false,
    "pycharm": {
     "name": "#%%\n"
    }
   }
  },
  {
   "cell_type": "code",
   "execution_count": null,
   "outputs": [],
   "source": [
    "plot_bloch_vector_spherical([pi/2, 0, 1])\n",
    "\n",
    "\n",
    "#State_vector => on state_vector simulator"
   ],
   "metadata": {
    "collapsed": false,
    "pycharm": {
     "name": "#%%\n"
    }
   }
  },
  {
   "cell_type": "code",
   "execution_count": null,
   "outputs": [],
   "source": [
    "from qiskit.quantum_info import Statevector\n",
    "from qiskit.visualization import plot_state_qsphere\n",
    "\n",
    "qc = QuantumCircuit(1)\n",
    "vector = [1j/sqrt(2), 1/sqrt(2)]\n",
    "qc.initialize(vector, 0)\n",
    "qc.draw()\n",
    "\n",
    "state = Statevector.from_instruction(qc)\n",
    "plot_state_qsphere(state)"
   ],
   "metadata": {
    "collapsed": false,
    "pycharm": {
     "name": "#%%\n"
    }
   }
  },
  {
   "cell_type": "code",
   "execution_count": null,
   "outputs": [],
   "source": [
    "from qiskit.quantum_info import Statevector\n",
    "from qiskit.visualization import plot_state_qsphere\n",
    "\n",
    "qc = QuantumCircuit(1)\n",
    "vector = [1j/sqrt(2), -1j/sqrt(2)]\n",
    "qc.initialize(vector, 0)\n",
    "qc.draw()\n",
    "\n",
    "state = Statevector.from_instruction(qc)\n",
    "plot_state_qsphere(state)"
   ],
   "metadata": {
    "collapsed": false,
    "pycharm": {
     "name": "#%%\n"
    }
   }
  },
  {
   "cell_type": "markdown",
   "source": [
    "# Check values around equator\n",
    "\n",
    "$\\tfrac{1}{\\sqrt{2}}(|0\\rangle + |1\\rangle)$\n"
   ],
   "metadata": {
    "collapsed": false
   }
  },
  {
   "cell_type": "code",
   "execution_count": null,
   "outputs": [],
   "source": [
    "plot_bloch_vector([1, 0, 0])"
   ],
   "metadata": {
    "collapsed": false,
    "pycharm": {
     "name": "#%%\n"
    }
   }
  },
  {
   "cell_type": "code",
   "execution_count": null,
   "outputs": [],
   "source": [
    "plot_bloch_vector_spherical([pi/2, 0, 1])"
   ],
   "metadata": {
    "collapsed": false,
    "pycharm": {
     "name": "#%%\n"
    }
   }
  },
  {
   "cell_type": "code",
   "execution_count": null,
   "outputs": [],
   "source": [
    "qc = QuantumCircuit(1)\n",
    "vector = [1/sqrt(2), 1/sqrt(2)]\n",
    "qc.initialize(vector, 0)\n",
    "qc.draw()\n",
    "\n",
    "state = Statevector.from_instruction(qc)\n",
    "plot_state_qsphere(state)"
   ],
   "metadata": {
    "collapsed": false,
    "pycharm": {
     "name": "#%%\n"
    }
   }
  },
  {
   "cell_type": "markdown",
   "source": [
    "$\\tfrac{1}{\\sqrt{2}}(|0\\rangle + i|1\\rangle)$"
   ],
   "metadata": {
    "collapsed": false
   }
  },
  {
   "cell_type": "code",
   "execution_count": null,
   "outputs": [],
   "source": [
    "plot_bloch_vector([0, 1, 0])"
   ],
   "metadata": {
    "collapsed": false,
    "pycharm": {
     "name": "#%%\n"
    }
   }
  },
  {
   "cell_type": "code",
   "execution_count": null,
   "outputs": [],
   "source": [
    "plot_bloch_vector_spherical([pi/2, pi/2, 1])"
   ],
   "metadata": {
    "collapsed": false,
    "pycharm": {
     "name": "#%%\n"
    }
   }
  },
  {
   "cell_type": "code",
   "execution_count": null,
   "outputs": [],
   "source": [
    "qc = QuantumCircuit(1)\n",
    "vector = [1/sqrt(2), 1j/sqrt(2)]\n",
    "qc.initialize(vector, 0)\n",
    "qc.draw()\n",
    "\n",
    "state = Statevector.from_instruction(qc)\n",
    "plot_state_qsphere(state)"
   ],
   "metadata": {
    "collapsed": false,
    "pycharm": {
     "name": "#%%\n"
    }
   }
  },
  {
   "cell_type": "markdown",
   "source": [
    "$\\tfrac{1}{\\sqrt{2}}(|0\\rangle - |1\\rangle)$"
   ],
   "metadata": {
    "collapsed": false
   }
  },
  {
   "cell_type": "code",
   "execution_count": null,
   "outputs": [],
   "source": [
    "plot_bloch_vector([-1, 0, 0])"
   ],
   "metadata": {
    "collapsed": false,
    "pycharm": {
     "name": "#%%\n"
    }
   }
  },
  {
   "cell_type": "code",
   "execution_count": null,
   "outputs": [],
   "source": [
    "plot_bloch_vector_spherical([pi/2, pi, 1])"
   ],
   "metadata": {
    "collapsed": false,
    "pycharm": {
     "name": "#%%\n"
    }
   }
  },
  {
   "cell_type": "code",
   "execution_count": null,
   "outputs": [],
   "source": [
    "qc = QuantumCircuit(1)\n",
    "vector = [1/sqrt(2), -1/sqrt(2)]\n",
    "qc.initialize(vector, 0)\n",
    "qc.draw()\n",
    "\n",
    "state = Statevector.from_instruction(qc)\n",
    "plot_state_qsphere(state)"
   ],
   "metadata": {
    "collapsed": false,
    "pycharm": {
     "name": "#%%\n"
    }
   }
  },
  {
   "cell_type": "markdown",
   "source": [
    "$\\tfrac{1}{\\sqrt{2}}(|0\\rangle - i|1\\rangle)$"
   ],
   "metadata": {
    "collapsed": false
   }
  },
  {
   "cell_type": "code",
   "execution_count": null,
   "outputs": [],
   "source": [
    "plot_bloch_vector([0, -1, 0])"
   ],
   "metadata": {
    "collapsed": false,
    "pycharm": {
     "name": "#%%\n"
    }
   }
  },
  {
   "cell_type": "code",
   "execution_count": null,
   "outputs": [],
   "source": [
    "plot_bloch_vector_spherical([pi/2, -pi/2, 1])"
   ],
   "metadata": {
    "collapsed": false,
    "pycharm": {
     "name": "#%%\n"
    }
   }
  },
  {
   "cell_type": "code",
   "execution_count": null,
   "outputs": [],
   "source": [
    "qc = QuantumCircuit(1)\n",
    "vector = [1/sqrt(2), -1j/sqrt(2)]\n",
    "qc.initialize(vector, 0)\n",
    "qc.draw()\n",
    "\n",
    "state = Statevector.from_instruction(qc)\n",
    "plot_state_qsphere(state)"
   ],
   "metadata": {
    "collapsed": false,
    "pycharm": {
     "name": "#%%\n"
    }
   }
  },
  {
   "cell_type": "code",
   "execution_count": null,
   "outputs": [],
   "source": [
    "\n"
   ],
   "metadata": {
    "collapsed": false,
    "pycharm": {
     "name": "#%%\n"
    }
   }
  },
  {
   "cell_type": "code",
   "execution_count": null,
   "outputs": [],
   "source": [
    "from qiskit import QuantumCircuit\n",
    "from qiskit.quantum_info import DensityMatrix\n",
    "from qiskit.visualization import plot_state_paulivec"
   ],
   "metadata": {
    "collapsed": false,
    "pycharm": {
     "name": "#%%\n"
    }
   }
  },
  {
   "cell_type": "markdown",
   "source": [
    "# Bell state 00"
   ],
   "metadata": {
    "collapsed": false
   }
  },
  {
   "cell_type": "code",
   "execution_count": null,
   "outputs": [],
   "source": [
    "bell_00 = QuantumCircuit(2)\n",
    "bell_00.h(0)\n",
    "bell_00.cx(0, 1)\n",
    "print(bell_00)\n",
    "\n",
    "state = DensityMatrix.from_instruction(bell_00)\n",
    "plot_state_paulivec(state)\n",
    "\n",
    "# Bell state 10"
   ],
   "metadata": {
    "collapsed": false,
    "pycharm": {
     "name": "#%%\n"
    }
   }
  },
  {
   "cell_type": "code",
   "execution_count": null,
   "outputs": [],
   "source": [
    "bell_10 = QuantumCircuit(2)\n",
    "bell_10.h(0)\n",
    "bell_10.x(1)\n",
    "bell_10.cx(0, 1)\n",
    "print(bell_10)\n",
    "\n",
    "state = DensityMatrix.from_instruction(bell_10)\n",
    "plot_state_paulivec(state)"
   ],
   "metadata": {
    "collapsed": false,
    "pycharm": {
     "name": "#%%\n"
    }
   }
  },
  {
   "cell_type": "markdown",
   "source": [
    "# Bell state 01"
   ],
   "metadata": {
    "collapsed": false
   }
  },
  {
   "cell_type": "code",
   "execution_count": null,
   "outputs": [],
   "source": [
    "bell_01 = QuantumCircuit(2)\n",
    "bell_01.x(0)\n",
    "bell_01.h(0)\n",
    "bell_01.cx(0, 1)\n",
    "print(bell_01)\n",
    "\n",
    "state = DensityMatrix.from_instruction(bell_01)\n",
    "plot_state_paulivec(state)"
   ],
   "metadata": {
    "collapsed": false,
    "pycharm": {
     "name": "#%%\n"
    }
   }
  },
  {
   "cell_type": "markdown",
   "source": [
    "# Bell state 11"
   ],
   "metadata": {
    "collapsed": false
   }
  },
  {
   "cell_type": "code",
   "execution_count": null,
   "outputs": [],
   "source": [
    "bell_11 = QuantumCircuit(2)\n",
    "bell_11.x(0)\n",
    "bell_11.h(0)\n",
    "bell_11.x(1)\n",
    "bell_11.cx(0, 1)\n",
    "print(bell_11)\n",
    "\n",
    "state = DensityMatrix.from_instruction(bell_11)\n",
    "plot_state_paulivec(state)\n"
   ],
   "metadata": {
    "collapsed": false,
    "pycharm": {
     "name": "#%%\n"
    }
   }
  }
 ],
 "metadata": {
  "kernelspec": {
   "display_name": "Python 3",
   "language": "python",
   "name": "python3"
  },
  "language_info": {
   "codemirror_mode": {
    "name": "ipython",
    "version": 3
   },
   "file_extension": ".py",
   "mimetype": "text/x-python",
   "name": "python",
   "nbconvert_exporter": "python",
   "pygments_lexer": "ipython3",
   "version": "3.9.2"
  }
 },
 "nbformat": 4,
 "nbformat_minor": 1
}