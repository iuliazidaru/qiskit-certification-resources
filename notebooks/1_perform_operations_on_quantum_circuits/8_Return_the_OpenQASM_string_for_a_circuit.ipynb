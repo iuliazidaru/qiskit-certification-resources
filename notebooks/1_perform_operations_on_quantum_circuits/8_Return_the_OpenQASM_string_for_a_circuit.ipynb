{
 "cells": [
  {
   "cell_type": "markdown",
   "metadata": {
    "collapsed": true,
    "pycharm": {
     "name": "#%% md\n"
    }
   },
   "source": [
    "https://qiskit.org/documentation/stubs/qiskit.circuit.QuantumCircuit.html"
   ]
  },
  {
   "cell_type": "code",
   "execution_count": 1,
   "metadata": {
    "pycharm": {
     "name": "#%%\n"
    }
   },
   "outputs": [
    {
     "data": {
      "text/html": [
       "<pre style=\"word-wrap: normal;white-space: pre;background: #fff0;line-height: 1.1;font-family: &quot;Courier New&quot;,Courier,monospace\">     ┌───┐     \n",
       "q_0: ┤ H ├──■──\n",
       "     └───┘┌─┴─┐\n",
       "q_1: ─────┤ X ├\n",
       "          └───┘</pre>"
      ],
      "text/plain": [
       "     ┌───┐     \n",
       "q_0: ┤ H ├──■──\n",
       "     └───┘┌─┴─┐\n",
       "q_1: ─────┤ X ├\n",
       "          └───┘"
      ]
     },
     "execution_count": 1,
     "metadata": {},
     "output_type": "execute_result"
    }
   ],
   "source": [
    "from qiskit import QuantumCircuit\n",
    "\n",
    "circuit = QuantumCircuit(2)\n",
    "circuit.h(0)\n",
    "circuit.cx(0,1)\n",
    "circuit.draw()"
   ]
  },
  {
   "cell_type": "code",
   "execution_count": 2,
   "metadata": {
    "pycharm": {
     "name": "#%%\n"
    }
   },
   "outputs": [
    {
     "data": {
      "text/plain": [
       "'OPENQASM 2.0;\\ninclude \"qelib1.inc\";\\nqreg q[2];\\nh q[0];\\ncx q[0],q[1];\\n'"
      ]
     },
     "execution_count": 2,
     "metadata": {},
     "output_type": "execute_result"
    }
   ],
   "source": [
    "circuit.qasm()"
   ]
  },
  {
   "cell_type": "code",
   "execution_count": 3,
   "metadata": {
    "pycharm": {
     "name": "#%%\n"
    }
   },
   "outputs": [
    {
     "name": "stdout",
     "output_type": "stream",
     "text": [
      "\u001B[92mOPENQASM\u001B[39m \u001B[96m2\u001B[39m.\u001B[96m0\u001B[39m;\n",
      "\u001B[92minclude\u001B[39m\u001B[91m \"qelib1.inc\"\u001B[39m;\n",
      "\u001B[92mqreg\u001B[39m q[\u001B[96m2\u001B[39m];\n",
      "\u001B[95mh\u001B[39m q[\u001B[96m0\u001B[39m];\n",
      "\u001B[95mcx\u001B[39m q[\u001B[96m0\u001B[39m],q[\u001B[96m1\u001B[39m];\n",
      "\n"
     ]
    }
   ],
   "source": [
    "circuit.qasm(formatted=True)"
   ]
  },
  {
   "cell_type": "code",
   "execution_count": 4,
   "metadata": {
    "pycharm": {
     "name": "#%%\n"
    }
   },
   "outputs": [
    {
     "name": "stdout",
     "output_type": "stream",
     "text": [
      "\u001B[92mOPENQASM\u001B[39m \u001B[96m2\u001B[39m.\u001B[96m0\u001B[39m;\n",
      "\u001B[92minclude\u001B[39m\u001B[91m \"qelib1.inc\"\u001B[39m;\n",
      "\u001B[92mqreg\u001B[39m q[\u001B[96m2\u001B[39m];\n",
      "\u001B[95mh\u001B[39m q[\u001B[96m0\u001B[39m];\n",
      "\u001B[95mcx\u001B[39m q[\u001B[96m0\u001B[39m],q[\u001B[96m1\u001B[39m];\n",
      "\n"
     ]
    }
   ],
   "source": [
    "circuit.qasm(formatted=True, filename=\"temp\")"
   ]
  },
  {
   "cell_type": "code",
   "execution_count": 11,
   "metadata": {},
   "outputs": [
    {
     "data": {
      "text/html": [
       "<pre style=\"word-wrap: normal;white-space: pre;background: #fff0;line-height: 1.1;font-family: &quot;Courier New&quot;,Courier,monospace\">     ┌───┐     \n",
       "q_0: ┤ H ├──■──\n",
       "     └───┘┌─┴─┐\n",
       "q_1: ─────┤ X ├\n",
       "          └───┘</pre>"
      ],
      "text/plain": [
       "     ┌───┐     \n",
       "q_0: ┤ H ├──■──\n",
       "     └───┘┌─┴─┐\n",
       "q_1: ─────┤ X ├\n",
       "          └───┘"
      ]
     },
     "execution_count": 11,
     "metadata": {},
     "output_type": "execute_result"
    }
   ],
   "source": [
    "circuit = QuantumCircuit.from_qasm_str(\"OPENQASM 2.0;include \\\"qelib1.inc\\\";qreg q[2];h q[0];cx q[0],q[1];\")\n",
    "circuit.draw()"
   ]
  },
  {
   "cell_type": "markdown",
   "metadata": {
    "pycharm": {
     "name": "#%% md\n"
    }
   },
   "source": [
    "![Doc](resources/FromQasm.png)"
   ]
  }
 ],
 "metadata": {
  "kernelspec": {
   "display_name": "Python 3",
   "language": "python",
   "name": "python3"
  },
  "language_info": {
   "codemirror_mode": {
    "name": "ipython",
    "version": 3
   },
   "file_extension": ".py",
   "mimetype": "text/x-python",
   "name": "python",
   "nbconvert_exporter": "python",
   "pygments_lexer": "ipython3",
   "version": "3.9.2"
  }
 },
 "nbformat": 4,
 "nbformat_minor": 1
}