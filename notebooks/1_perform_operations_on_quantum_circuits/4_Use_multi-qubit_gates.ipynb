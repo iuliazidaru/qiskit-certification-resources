{
 "cells": [
  {
   "cell_type": "markdown",
   "metadata": {
    "collapsed": true,
    "pycharm": {
     "name": "#%% md\n"
    }
   },
   "source": [
    "## Use multi qubit gates\n",
    "\n",
    "https://qiskit.org/textbook/ch-gates/multiple-qubits-entangled-states.html\n",
    "\n",
    "https://qiskit.org/documentation/stubs/qiskit.quantum_info.Clifford.html\n",
    "\n",
    "![Doc](resources/CliffordGatesConversion.png)\n",
    "\n",
    "Ex 5.7\n",
    "\n",
    "https://nbviewer.jupyter.org/github/qiskit-community/qiskit-advocate-test/blob/master/solutions/5_simulators.ipynb\n",
    "https://github.com/Qiskit/qiskit-tutorials/blob/master/tutorials/circuits/3_summary_of_quantum_operations.ipynb\n",
    "\n",
    "![Doc](resources/CPhaseGate.png)\n",
    "https://qiskit.org/documentation/stubs/qiskit.circuit.library.CPhaseGate.html#qiskit.circuit.library.CPhaseGate\n",
    "![Doc](resources/CRZGate.png)\n",
    "![Doc](resources/CZGate.png)\n",
    "https://qiskit.org/documentation/stubs/qiskit.circuit.library.CZGate.html\n",
    "\n",
    "https://qiskit.org/documentation/stubs/qiskit.circuit.library.MCXGate.html#qiskit.circuit.library.MCXGate\n"
   ]
  },
  {
   "cell_type": "code",
   "execution_count": 2,
   "outputs": [
    {
     "name": "stdout",
     "output_type": "stream",
     "text": [
      "        \n",
      "q_0: ─■─\n",
      "      │ \n",
      "q_1: ─X─\n",
      "      │ \n",
      "q_2: ─X─\n",
      "        \n"
     ]
    }
   ],
   "source": [
    "from qiskit import QuantumCircuit\n",
    "\n",
    "qc = QuantumCircuit(3)\n",
    "\n",
    "qc.cswap(0,1,2)\n",
    "#qc.mct(0,1)\n",
    "\n",
    "print(qc)"
   ],
   "metadata": {
    "collapsed": false,
    "pycharm": {
     "name": "#%%\n"
    }
   }
  },
  {
   "cell_type": "markdown",
   "source": [
    "# CZ vs CP vs CRZ\n",
    "#qc.cz(0,1)\n",
    "#qc.cp(pi, 0, 1)\n",
    "#qc.crz(pi, 0,1)"
   ],
   "metadata": {
    "collapsed": false,
    "pycharm": {
     "name": "#%% md\n"
    }
   }
  },
  {
   "cell_type": "code",
   "execution_count": 3,
   "outputs": [
    {
     "name": "stdout",
     "output_type": "stream",
     "text": [
      "[[ 1.+0.j  0.+0.j  0.+0.j  0.+0.j]\n",
      " [ 0.+0.j  1.+0.j  0.+0.j  0.+0.j]\n",
      " [ 0.+0.j  0.+0.j  1.+0.j  0.+0.j]\n",
      " [ 0.+0.j  0.+0.j  0.+0.j -1.+0.j]]\n"
     ]
    }
   ],
   "source": [
    "from qiskit.circuit.library import CZGate\n",
    "print(CZGate().to_matrix())"
   ],
   "metadata": {
    "collapsed": false,
    "pycharm": {
     "name": "#%%\n"
    }
   }
  },
  {
   "cell_type": "code",
   "execution_count": 4,
   "outputs": [
    {
     "name": "stdout",
     "output_type": "stream",
     "text": [
      "[[ 1.+0.0000000e+00j  0.+0.0000000e+00j  0.+0.0000000e+00j\n",
      "   0.+0.0000000e+00j]\n",
      " [ 0.+0.0000000e+00j  1.+0.0000000e+00j  0.+0.0000000e+00j\n",
      "   0.+0.0000000e+00j]\n",
      " [ 0.+0.0000000e+00j  0.+0.0000000e+00j  1.+0.0000000e+00j\n",
      "   0.+0.0000000e+00j]\n",
      " [ 0.+0.0000000e+00j  0.+0.0000000e+00j  0.+0.0000000e+00j\n",
      "  -1.+1.2246468e-16j]]\n"
     ]
    }
   ],
   "source": [
    "from qiskit.circuit.library import CPhaseGate\n",
    "from math import pi\n",
    "print(CPhaseGate(pi).to_matrix())"
   ],
   "metadata": {
    "collapsed": false,
    "pycharm": {
     "name": "#%%\n"
    }
   }
  },
  {
   "cell_type": "code",
   "execution_count": 5,
   "outputs": [
    {
     "name": "stdout",
     "output_type": "stream",
     "text": [
      "[[1.000000e+00+0.j 0.000000e+00+0.j 0.000000e+00+0.j 0.000000e+00+0.j]\n",
      " [0.000000e+00+0.j 6.123234e-17-1.j 0.000000e+00+0.j 0.000000e+00+0.j]\n",
      " [0.000000e+00+0.j 0.000000e+00+0.j 1.000000e+00+0.j 0.000000e+00+0.j]\n",
      " [0.000000e+00+0.j 0.000000e+00+0.j 0.000000e+00+0.j 6.123234e-17+1.j]]\n"
     ]
    }
   ],
   "source": [
    "from qiskit.circuit.library import CRZGate\n",
    "from math import pi\n",
    "print(CRZGate(pi).to_matrix())\n"
   ],
   "metadata": {
    "collapsed": false,
    "pycharm": {
     "name": "#%%\n"
    }
   }
  },
  {
   "cell_type": "markdown",
   "source": [
    "# MCXGate - multi-controlled X gate."
   ],
   "metadata": {
    "collapsed": false,
    "pycharm": {
     "name": "#%% md\n"
    }
   }
  },
  {
   "cell_type": "code",
   "execution_count": 6,
   "outputs": [
    {
     "name": "stdout",
     "output_type": "stream",
     "text": [
      "          \n",
      "q_0: ──■──\n",
      "       │  \n",
      "q_1: ──■──\n",
      "     ┌─┴─┐\n",
      "q_2: ┤ X ├\n",
      "     └─┬─┘\n",
      "q_3: ──■──\n",
      "       │  \n",
      "q_4: ──■──\n",
      "          \n"
     ]
    }
   ],
   "source": [
    "from qiskit import QuantumCircuit\n",
    "\n",
    "qc = QuantumCircuit(5)\n",
    "\n",
    "qc.mcx([0,1,3,4],2)\n",
    "\n",
    "\n",
    "print(qc)"
   ],
   "metadata": {
    "collapsed": false,
    "pycharm": {
     "name": "#%%\n"
    }
   }
  },
  {
   "cell_type": "markdown",
   "source": [
    "# GATES\n",
    "## Toffoli"
   ],
   "metadata": {
    "collapsed": false
   }
  },
  {
   "cell_type": "code",
   "execution_count": 7,
   "outputs": [
    {
     "data": {
      "text/plain": "          \nq_0: ──■──\n     ┌─┴─┐\nq_1: ┤ X ├\n     └─┬─┘\nq_2: ──■──\n          ",
      "text/html": "<pre style=\"word-wrap: normal;white-space: pre;background: #fff0;line-height: 1.1;font-family: &quot;Courier New&quot;,Courier,monospace\">          \nq_0: ──■──\n     ┌─┴─┐\nq_1: ┤ X ├\n     └─┬─┘\nq_2: ──■──\n          </pre>"
     },
     "execution_count": 7,
     "metadata": {},
     "output_type": "execute_result"
    }
   ],
   "source": [
    "qc =QuantumCircuit(3)\n",
    "qc.ccx(0,2,1)\n",
    "qc.draw()"
   ],
   "metadata": {
    "collapsed": false,
    "pycharm": {
     "name": "#%%\n"
    }
   }
  },
  {
   "cell_type": "code",
   "execution_count": 8,
   "outputs": [
    {
     "data": {
      "text/plain": "          \nq_0: ──■──\n     ┌─┴─┐\nq_1: ┤ X ├\n     └─┬─┘\nq_2: ──■──\n          ",
      "text/html": "<pre style=\"word-wrap: normal;white-space: pre;background: #fff0;line-height: 1.1;font-family: &quot;Courier New&quot;,Courier,monospace\">          \nq_0: ──■──\n     ┌─┴─┐\nq_1: ┤ X ├\n     └─┬─┘\nq_2: ──■──\n          </pre>"
     },
     "execution_count": 8,
     "metadata": {},
     "output_type": "execute_result"
    }
   ],
   "source": [
    "qc =QuantumCircuit(3)\n",
    "qc.toffoli(0,2,1)\n",
    "qc.draw()"
   ],
   "metadata": {
    "collapsed": false,
    "pycharm": {
     "name": "#%%\n"
    }
   }
  }
 ],
 "metadata": {
  "kernelspec": {
   "display_name": "Python 3",
   "language": "python",
   "name": "python3"
  },
  "language_info": {
   "codemirror_mode": {
    "name": "ipython",
    "version": 2
   },
   "file_extension": ".py",
   "mimetype": "text/x-python",
   "name": "python",
   "nbconvert_exporter": "python",
   "pygments_lexer": "ipython2",
   "version": "2.7.6"
  }
 },
 "nbformat": 4,
 "nbformat_minor": 0
}