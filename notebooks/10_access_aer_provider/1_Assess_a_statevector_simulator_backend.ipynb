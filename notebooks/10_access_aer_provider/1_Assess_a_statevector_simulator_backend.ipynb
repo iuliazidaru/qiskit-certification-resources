{
 "cells": [
  {
   "cell_type": "markdown",
   "metadata": {
    "collapsed": true,
    "pycharm": {
     "name": "#%% md\n"
    }
   },
   "source": [
    "https://medium.com/qiskit/qiskit-backends-what-they-are-and-how-to-work-with-them-fb66b3bd0463\n",
    "\n",
    "https://qiskit.org/documentation/apidoc/providers_basicaer.html\n",
    "\n",
    "![Doc](resources/BasicAir.png)\n",
    "\n",
    "https://qiskit.org/documentation/tutorials/simulators/1_aer_provider.html\n",
    "\n",
    "![Doc](resources/AirProvider.png)\n",
    "\n",
    "![Doc](resources/AerProvider-classes.png)\n",
    "\n",
    "https://nbviewer.jupyter.org/github/qiskit-community/qiskit-advocate-test/blob/master/solutions/5_simulators.ipynb\n",
    "\n",
    "https://qiskit.org/documentation/tutorials/simulators/1_aer_provider.html\n",
    "https://qiskit.org/documentation/apidoc/providers_basicaer.html\n",
    "https://quantum-computing.ibm.com/lab/docs/iql/high-performance-simulators\n",
    "https://quantum-computing.ibm.com/lab/docs/iql/manage/simulator/"
   ]
  },
  {
   "cell_type": "markdown",
   "source": [
    "## StateVector\n",
    "\n",
    "https://github.com/Qiskit/qiskit-aer/blob/master/qiskit/providers/aer/backends/statevector_simulator.py\n",
    "\n",
    "# Available system memory\n",
    "SYSTEM_MEMORY_GB = local_hardware_info()['memory']\n",
    "\n",
    "# Max number of qubits for complex double statevector\n",
    "# given available system memory\n",
    "MAX_QUBITS_STATEVECTOR = int(log2(SYSTEM_MEMORY_GB * (1024**3) / 16))"
   ],
   "metadata": {
    "collapsed": false
   }
  },
  {
   "cell_type": "markdown",
   "source": [
    "The Aer providers"
   ],
   "metadata": {
    "collapsed": false
   }
  },
  {
   "cell_type": "code",
   "execution_count": null,
   "outputs": [],
   "source": [
    "import numpy as np\n",
    "\n",
    "# Import Qiskit\n",
    "from qiskit import QuantumCircuit\n",
    "from qiskit import Aer, transpile\n",
    "from qiskit.tools.visualization import plot_histogram, plot_state_city\n",
    "import qiskit.quantum_info as qi"
   ],
   "metadata": {
    "collapsed": false,
    "pycharm": {
     "name": "#%%\n"
    }
   }
  },
  {
   "cell_type": "code",
   "execution_count": null,
   "outputs": [],
   "source": [
    "Aer.backends()"
   ],
   "metadata": {
    "collapsed": false,
    "pycharm": {
     "name": "#%%\n"
    }
   }
  },
  {
   "cell_type": "markdown",
   "source": [
    "https://qiskit.org/documentation/tutorials/simulators/2_device_noise_simulation.html\n",
    "Generating a simulator that mimics a device"
   ],
   "metadata": {
    "collapsed": false
   }
  },
  {
   "cell_type": "code",
   "execution_count": null,
   "outputs": [],
   "source": [
    "from qiskit.providers.aer import AerSimulator\n",
    "from qiskit.test.mock import FakeVigo\n",
    "device_backend = FakeVigo()\n",
    "sim_vigo = AerSimulator.from_backend(device_backend)"
   ],
   "metadata": {
    "collapsed": false,
    "pycharm": {
     "name": "#%%\n"
    }
   }
  },
  {
   "cell_type": "markdown",
   "source": [
    "Statevector vs QASM\n",
    "\n",
    "Ex 5.6\n",
    "\n",
    "https://nbviewer.jupyter.org/github/qiskit-community/qiskit-advocate-test/blob/master/solutions/5_simulators.ipynb"
   ],
   "metadata": {
    "collapsed": false,
    "pycharm": {
     "name": "#%% md\n"
    }
   }
  },
  {
   "cell_type": "code",
   "execution_count": 1,
   "outputs": [],
   "source": [
    "from qiskit import QuantumCircuit, execute, Aer\n",
    "M_simulator = Aer.get_backend('qasm_simulator')\n",
    "S_simulator = Aer.get_backend('statevector_simulator')\n",
    "U_simulator = Aer.get_backend('unitary_simulator')"
   ],
   "metadata": {
    "collapsed": false,
    "pycharm": {
     "name": "#%%\n"
    }
   }
  },
  {
   "cell_type": "code",
   "execution_count": 4,
   "outputs": [
    {
     "ename": "QiskitError",
     "evalue": "'No memory for experiment \"<qiskit.circuit.quantumcircuit.QuantumCircuit object at 0x126894a30>\". Please verify that you either ran a measurement level 2 job with the memory flag set, eg., \"memory=True\", or a measurement level 0/1 job.'",
     "output_type": "error",
     "traceback": [
      "\u001B[0;31m---------------------------------------------------------------------------\u001B[0m",
      "\u001B[0;31mKeyError\u001B[0m                                  Traceback (most recent call last)",
      "\u001B[0;32m~/opt/anaconda3/envs/qiskit-certification-resources/lib/python3.9/site-packages/qiskit/result/result.py\u001B[0m in \u001B[0;36mget_memory\u001B[0;34m(self, experiment)\u001B[0m\n\u001B[1;32m    219\u001B[0m \u001B[0;34m\u001B[0m\u001B[0m\n\u001B[0;32m--> 220\u001B[0;31m             \u001B[0mmemory\u001B[0m \u001B[0;34m=\u001B[0m \u001B[0mself\u001B[0m\u001B[0;34m.\u001B[0m\u001B[0mdata\u001B[0m\u001B[0;34m(\u001B[0m\u001B[0mexperiment\u001B[0m\u001B[0;34m)\u001B[0m\u001B[0;34m[\u001B[0m\u001B[0;34m'memory'\u001B[0m\u001B[0;34m]\u001B[0m\u001B[0;34m\u001B[0m\u001B[0;34m\u001B[0m\u001B[0m\n\u001B[0m\u001B[1;32m    221\u001B[0m \u001B[0;34m\u001B[0m\u001B[0m\n",
      "\u001B[0;31mKeyError\u001B[0m: 'memory'",
      "\nThe above exception was the direct cause of the following exception:\n",
      "\u001B[0;31mQiskitError\u001B[0m                               Traceback (most recent call last)",
      "\u001B[0;32m<ipython-input-4-52c8c1ab500c>\u001B[0m in \u001B[0;36m<module>\u001B[0;34m\u001B[0m\n\u001B[1;32m      4\u001B[0m \u001B[0;34m\u001B[0m\u001B[0m\n\u001B[1;32m      5\u001B[0m \u001B[0mresult_hp6_1\u001B[0m \u001B[0;34m=\u001B[0m \u001B[0mexecute\u001B[0m\u001B[0;34m(\u001B[0m\u001B[0mqc_hp6\u001B[0m\u001B[0;34m,\u001B[0m \u001B[0mbackend\u001B[0m \u001B[0;34m=\u001B[0m \u001B[0mS_simulator\u001B[0m\u001B[0;34m,\u001B[0m \u001B[0mshots\u001B[0m\u001B[0;34m=\u001B[0m\u001B[0;36m15\u001B[0m\u001B[0;34m,\u001B[0m \u001B[0mmemory\u001B[0m\u001B[0;34m=\u001B[0m\u001B[0;32mTrue\u001B[0m\u001B[0;34m)\u001B[0m\u001B[0;34m.\u001B[0m\u001B[0mresult\u001B[0m\u001B[0;34m(\u001B[0m\u001B[0;34m)\u001B[0m\u001B[0;34m\u001B[0m\u001B[0;34m\u001B[0m\u001B[0m\n\u001B[0;32m----> 6\u001B[0;31m \u001B[0mmemory_hp6_1\u001B[0m \u001B[0;34m=\u001B[0m \u001B[0mresult_hp6_1\u001B[0m\u001B[0;34m.\u001B[0m\u001B[0mget_memory\u001B[0m\u001B[0;34m(\u001B[0m\u001B[0mqc_hp6\u001B[0m\u001B[0;34m)\u001B[0m\u001B[0;34m\u001B[0m\u001B[0;34m\u001B[0m\u001B[0m\n\u001B[0m\u001B[1;32m      7\u001B[0m \u001B[0mprint\u001B[0m\u001B[0;34m(\u001B[0m\u001B[0mmemory_hp6_1\u001B[0m\u001B[0;34m)\u001B[0m\u001B[0;34m\u001B[0m\u001B[0;34m\u001B[0m\u001B[0m\n",
      "\u001B[0;32m~/opt/anaconda3/envs/qiskit-certification-resources/lib/python3.9/site-packages/qiskit/result/result.py\u001B[0m in \u001B[0;36mget_memory\u001B[0;34m(self, experiment)\u001B[0m\n\u001B[1;32m    230\u001B[0m \u001B[0;34m\u001B[0m\u001B[0m\n\u001B[1;32m    231\u001B[0m         \u001B[0;32mexcept\u001B[0m \u001B[0mKeyError\u001B[0m \u001B[0;32mas\u001B[0m \u001B[0mex\u001B[0m\u001B[0;34m:\u001B[0m\u001B[0;34m\u001B[0m\u001B[0;34m\u001B[0m\u001B[0m\n\u001B[0;32m--> 232\u001B[0;31m             raise QiskitError(\n\u001B[0m\u001B[1;32m    233\u001B[0m                 \u001B[0;34m'No memory for experiment \"{}\". '\u001B[0m\u001B[0;34m\u001B[0m\u001B[0;34m\u001B[0m\u001B[0m\n\u001B[1;32m    234\u001B[0m                 \u001B[0;34m'Please verify that you either ran a measurement level 2 job '\u001B[0m\u001B[0;34m\u001B[0m\u001B[0;34m\u001B[0m\u001B[0m\n",
      "\u001B[0;31mQiskitError\u001B[0m: 'No memory for experiment \"<qiskit.circuit.quantumcircuit.QuantumCircuit object at 0x126894a30>\". Please verify that you either ran a measurement level 2 job with the memory flag set, eg., \"memory=True\", or a measurement level 0/1 job.'"
     ]
    }
   ],
   "source": [
    "qc_hp6 = QuantumCircuit(2)\n",
    "qc_hp6.h([0,1])\n",
    "qc_hp6.measure_all()\n",
    "\n",
    "result_hp6_1 = execute(qc_hp6, backend = S_simulator, shots=15, memory=True).result()\n",
    "memory_hp6_1 = result_hp6_1.get_memory(qc_hp6)\n",
    "print(memory_hp6_1)"
   ],
   "metadata": {
    "collapsed": false,
    "pycharm": {
     "name": "#%%\n"
    }
   }
  },
  {
   "cell_type": "code",
   "execution_count": 6,
   "outputs": [
    {
     "name": "stdout",
     "output_type": "stream",
     "text": [
      "['00', '00', '10', '11', '10', '11', '10', '00', '00', '10', '00', '01', '10', '10', '00']\n"
     ]
    }
   ],
   "source": [
    "result_hp6_3 = execute(qc_hp6, backend = M_simulator, shots=15, memory=True).result()\n",
    "memory_hp6_3 = result_hp6_3.get_memory(qc_hp6)\n",
    "print(memory_hp6_3)"
   ],
   "metadata": {
    "collapsed": false,
    "pycharm": {
     "name": "#%%\n"
    }
   }
  },
  {
   "cell_type": "markdown",
   "source": [
    "Must have memory"
   ],
   "metadata": {
    "collapsed": false,
    "pycharm": {
     "name": "#%% md\n"
    }
   }
  },
  {
   "cell_type": "code",
   "execution_count": 7,
   "outputs": [
    {
     "ename": "QiskitError",
     "evalue": "'No memory for experiment \"<qiskit.circuit.quantumcircuit.QuantumCircuit object at 0x126894a30>\". Please verify that you either ran a measurement level 2 job with the memory flag set, eg., \"memory=True\", or a measurement level 0/1 job.'",
     "output_type": "error",
     "traceback": [
      "\u001B[0;31m---------------------------------------------------------------------------\u001B[0m",
      "\u001B[0;31mKeyError\u001B[0m                                  Traceback (most recent call last)",
      "\u001B[0;32m~/opt/anaconda3/envs/qiskit-certification-resources/lib/python3.9/site-packages/qiskit/result/result.py\u001B[0m in \u001B[0;36mget_memory\u001B[0;34m(self, experiment)\u001B[0m\n\u001B[1;32m    219\u001B[0m \u001B[0;34m\u001B[0m\u001B[0m\n\u001B[0;32m--> 220\u001B[0;31m             \u001B[0mmemory\u001B[0m \u001B[0;34m=\u001B[0m \u001B[0mself\u001B[0m\u001B[0;34m.\u001B[0m\u001B[0mdata\u001B[0m\u001B[0;34m(\u001B[0m\u001B[0mexperiment\u001B[0m\u001B[0;34m)\u001B[0m\u001B[0;34m[\u001B[0m\u001B[0;34m'memory'\u001B[0m\u001B[0;34m]\u001B[0m\u001B[0;34m\u001B[0m\u001B[0;34m\u001B[0m\u001B[0m\n\u001B[0m\u001B[1;32m    221\u001B[0m \u001B[0;34m\u001B[0m\u001B[0m\n",
      "\u001B[0;31mKeyError\u001B[0m: 'memory'",
      "\nThe above exception was the direct cause of the following exception:\n",
      "\u001B[0;31mQiskitError\u001B[0m                               Traceback (most recent call last)",
      "\u001B[0;32m<ipython-input-7-f2c70b790425>\u001B[0m in \u001B[0;36m<module>\u001B[0;34m\u001B[0m\n\u001B[1;32m      1\u001B[0m \u001B[0mresult_hp6_4\u001B[0m \u001B[0;34m=\u001B[0m \u001B[0mexecute\u001B[0m\u001B[0;34m(\u001B[0m\u001B[0mqc_hp6\u001B[0m\u001B[0;34m,\u001B[0m \u001B[0mbackend\u001B[0m \u001B[0;34m=\u001B[0m \u001B[0mM_simulator\u001B[0m\u001B[0;34m,\u001B[0m \u001B[0mshots\u001B[0m\u001B[0;34m=\u001B[0m\u001B[0;36m15\u001B[0m\u001B[0;34m,\u001B[0m \u001B[0mmemory\u001B[0m\u001B[0;34m=\u001B[0m\u001B[0;32mFalse\u001B[0m\u001B[0;34m)\u001B[0m\u001B[0;34m.\u001B[0m\u001B[0mresult\u001B[0m\u001B[0;34m(\u001B[0m\u001B[0;34m)\u001B[0m\u001B[0;34m\u001B[0m\u001B[0;34m\u001B[0m\u001B[0m\n\u001B[0;32m----> 2\u001B[0;31m \u001B[0mmemory_hp6_4\u001B[0m \u001B[0;34m=\u001B[0m \u001B[0mresult_hp6_4\u001B[0m\u001B[0;34m.\u001B[0m\u001B[0mget_memory\u001B[0m\u001B[0;34m(\u001B[0m\u001B[0mqc_hp6\u001B[0m\u001B[0;34m)\u001B[0m\u001B[0;34m\u001B[0m\u001B[0;34m\u001B[0m\u001B[0m\n\u001B[0m\u001B[1;32m      3\u001B[0m \u001B[0mprint\u001B[0m\u001B[0;34m(\u001B[0m\u001B[0mmemory_hp6_4\u001B[0m\u001B[0;34m)\u001B[0m\u001B[0;34m\u001B[0m\u001B[0;34m\u001B[0m\u001B[0m\n",
      "\u001B[0;32m~/opt/anaconda3/envs/qiskit-certification-resources/lib/python3.9/site-packages/qiskit/result/result.py\u001B[0m in \u001B[0;36mget_memory\u001B[0;34m(self, experiment)\u001B[0m\n\u001B[1;32m    230\u001B[0m \u001B[0;34m\u001B[0m\u001B[0m\n\u001B[1;32m    231\u001B[0m         \u001B[0;32mexcept\u001B[0m \u001B[0mKeyError\u001B[0m \u001B[0;32mas\u001B[0m \u001B[0mex\u001B[0m\u001B[0;34m:\u001B[0m\u001B[0;34m\u001B[0m\u001B[0;34m\u001B[0m\u001B[0m\n\u001B[0;32m--> 232\u001B[0;31m             raise QiskitError(\n\u001B[0m\u001B[1;32m    233\u001B[0m                 \u001B[0;34m'No memory for experiment \"{}\". '\u001B[0m\u001B[0;34m\u001B[0m\u001B[0;34m\u001B[0m\u001B[0m\n\u001B[1;32m    234\u001B[0m                 \u001B[0;34m'Please verify that you either ran a measurement level 2 job '\u001B[0m\u001B[0;34m\u001B[0m\u001B[0;34m\u001B[0m\u001B[0m\n",
      "\u001B[0;31mQiskitError\u001B[0m: 'No memory for experiment \"<qiskit.circuit.quantumcircuit.QuantumCircuit object at 0x126894a30>\". Please verify that you either ran a measurement level 2 job with the memory flag set, eg., \"memory=True\", or a measurement level 0/1 job.'"
     ]
    }
   ],
   "source": [
    "result_hp6_4 = execute(qc_hp6, backend = M_simulator, shots=15, memory=False).result()\n",
    "memory_hp6_4 = result_hp6_4.get_memory(qc_hp6)\n",
    "print(memory_hp6_4)"
   ],
   "metadata": {
    "collapsed": false,
    "pycharm": {
     "name": "#%%\n"
    }
   }
  },
  {
   "cell_type": "code",
   "execution_count": 4,
   "outputs": [
    {
     "name": "stdout",
     "output_type": "stream",
     "text": [
      "[0.71+0.j 0.  +0.j 0.71+0.j 0.  +0.j]\n"
     ]
    }
   ],
   "source": [
    "qc_h0 = QuantumCircuit(2)\n",
    "qc_h0.h(1)\n",
    "result_qc_h0 = execute(qc_h0, backend = S_simulator, shots=15, memory=True).result()\n",
    "print(result_qc_h0.get_statevector(qc_h0, 2))\n",
    "\n"
   ],
   "metadata": {
    "collapsed": false,
    "pycharm": {
     "name": "#%%\n"
    }
   }
  },
  {
   "cell_type": "code",
   "execution_count": 10,
   "outputs": [
    {
     "name": "stdout",
     "output_type": "stream",
     "text": [
      "{'00': 1}\n"
     ]
    }
   ],
   "source": [
    "from qiskit import QuantumCircuit, Aer, transpile\n",
    "\n",
    "qc = QuantumCircuit(2)\n",
    "qc.h(0)\n",
    "qc.measure_all()\n",
    "# Transpile for simulator\n",
    "simulator_sv = Aer.get_backend('statevector_simulator')\n",
    "qc = transpile(qc, simulator_sv)\n",
    "\n",
    "# Run and get counts\n",
    "result_sv = simulator_sv.run(qc,  shots=100).result()\n",
    "counts = result_sv.get_counts(qc)\n",
    "print(counts)"
   ],
   "metadata": {
    "collapsed": false,
    "pycharm": {
     "name": "#%%\n"
    }
   }
  }
 ],
 "metadata": {
  "kernelspec": {
   "display_name": "Python 3",
   "language": "python",
   "name": "python3"
  },
  "language_info": {
   "codemirror_mode": {
    "name": "ipython",
    "version": 3
   },
   "file_extension": ".py",
   "mimetype": "text/x-python",
   "name": "python",
   "nbconvert_exporter": "python",
   "pygments_lexer": "ipython3",
   "version": "3.9.2"
  }
 },
 "nbformat": 4,
 "nbformat_minor": 1
}