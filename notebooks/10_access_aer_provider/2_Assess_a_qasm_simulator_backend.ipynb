{
 "cells": [
  {
   "cell_type": "markdown",
   "metadata": {
    "collapsed": true,
    "pycharm": {
     "name": "#%% md\n"
    }
   },
   "source": [
    "https://nbviewer.jupyter.org/github/qiskit-community/qiskit-advocate-test/blob/master/solutions/5_simulators.ipynb"
   ]
  },
  {
   "cell_type": "code",
   "execution_count": 8,
   "outputs": [
    {
     "name": "stdout",
     "output_type": "stream",
     "text": [
      "{'01': 532, '00': 492}\n"
     ]
    }
   ],
   "source": [
    "from qiskit import QuantumCircuit, Aer, execute, transpile\n",
    "\n",
    "qc = QuantumCircuit(2)\n",
    "qc.h(0)\n",
    "qc.measure_all()\n",
    "# Transpile for simulator\n",
    "simulator = Aer.get_backend('qasm_simulator')\n",
    "qc = transpile(qc, simulator)\n",
    "\n",
    "# Run and get counts\n",
    "result = simulator.run(qc).result()\n",
    "counts = result.get_counts(qc)\n",
    "print(counts)"
   ],
   "metadata": {
    "collapsed": false,
    "pycharm": {
     "name": "#%%\n"
    }
   }
  },
  {
   "cell_type": "code",
   "execution_count": 9,
   "outputs": [
    {
     "name": "stdout",
     "output_type": "stream",
     "text": [
      "{'00': 506, '01': 518}\n"
     ]
    }
   ],
   "source": [
    "sim = Aer.get_backend('qasm_simulator')\n",
    "counts = execute(qc, sim).result().get_counts(qc)\n",
    "print(counts)"
   ],
   "metadata": {
    "collapsed": false,
    "pycharm": {
     "name": "#%%\n"
    }
   }
  }
 ],
 "metadata": {
  "kernelspec": {
   "display_name": "Python 3",
   "language": "python",
   "name": "python3"
  },
  "language_info": {
   "codemirror_mode": {
    "name": "ipython",
    "version": 2
   },
   "file_extension": ".py",
   "mimetype": "text/x-python",
   "name": "python",
   "nbconvert_exporter": "python",
   "pygments_lexer": "ipython2",
   "version": "2.7.6"
  }
 },
 "nbformat": 4,
 "nbformat_minor": 0
}