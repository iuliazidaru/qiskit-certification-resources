{
 "cells": [
  {
   "cell_type": "markdown",
   "metadata": {
    "collapsed": true,
    "pycharm": {
     "name": "#%% md\n"
    }
   },
   "source": [
    "# Perform operations around the Qiskit version"
   ]
  },
  {
   "cell_type": "code",
   "execution_count": 4,
   "metadata": {
    "pycharm": {
     "name": "#%%\n"
    }
   },
   "outputs": [
    {
     "data": {
      "text/plain": [
       "{'qiskit-terra': '0.17.1', 'qiskit-aer': '0.8.1', 'qiskit-ignis': '0.6.0', 'qiskit-ibmq-provider': '0.12.2', 'qiskit-aqua': '0.9.1', 'qiskit': '0.25.1', 'qiskit-nature': None, 'qiskit-finance': None, 'qiskit-optimization': None, 'qiskit-machine-learning': None}"
      ]
     },
     "execution_count": 4,
     "metadata": {},
     "output_type": "execute_result"
    }
   ],
   "source": [
    "import qiskit\n",
    "qiskit.__qiskit_version__"
   ]
  },
  {
   "cell_type": "markdown",
   "metadata": {
    "pycharm": {
     "name": "#%% md\n"
    }
   },
   "source": [
    " `%qiskit_version_table`is a line magic function. These commands are some of the enhancements  that iPython added on\n",
    " top of python in order to solve common problems in a standard way.\n",
    "https://jakevdp.github.io/PythonDataScienceHandbook/01.03-magic-commands.html"
   ]
  },
  {
   "cell_type": "code",
   "execution_count": 2,
   "metadata": {
    "pycharm": {
     "name": "#%%\n"
    }
   },
   "outputs": [],
   "source": [
    "#%lsmagic\n",
    "%timeit?"
   ]
  },
  {
   "cell_type": "code",
   "execution_count": 6,
   "metadata": {
    "pycharm": {
     "name": "#%%\n"
    }
   },
   "outputs": [
    {
     "name": "stderr",
     "output_type": "stream",
     "text": [
      "UsageError: Line magic function `%qiskit_version_table` not found.\n"
     ]
    }
   ],
   "source": [
    "import qiskit.tools.jupyter\n",
    "%qiskit_version_table"
   ]
  },
  {
   "cell_type": "markdown",
   "metadata": {
    "pycharm": {
     "name": "#%% md\n"
    }
   },
   "source": [
    "Source code: https://github.com/Qiskit/qiskit-terra/blob/main/qiskit/tools/jupyter/version_table.py"
   ]
  },
  {
   "cell_type": "markdown",
   "metadata": {
    "pycharm": {
     "name": "#%% md\n"
    }
   },
   "source": [
    "This is an example usage:\n",
    "https://github.com/PacktPublishing/Quantum-Computing-in-Practice-with-Qiskit-and-IBM-Quantum-Experience/blob/master/Chapter01/ch1_r1_version.py"
   ]
  },
  {
   "cell_type": "code",
   "execution_count": 8,
   "metadata": {
    "pycharm": {
     "name": "#%%\n"
    }
   },
   "outputs": [
    {
     "name": "stdout",
     "output_type": "stream",
     "text": [
      "Qiskit components and versions:\n",
      "===============================\n",
      "qiskit-terra 0.17.1\n",
      "qiskit-aer 0.8.1\n",
      "qiskit-ignis 0.6.0\n",
      "qiskit-ibmq-provider 0.12.2\n",
      "qiskit-aqua 0.9.1\n",
      "qiskit 0.25.1\n",
      "qiskit-nature None\n",
      "qiskit-finance None\n",
      "qiskit-optimization None\n",
      "qiskit-machine-learning None\n",
      "0.8.1\n"
     ]
    }
   ],
   "source": [
    "# Set versions variable to the current Qiskit versions\n",
    "versions=qiskit.__qiskit_version__\n",
    "\n",
    "# Print the version number for the Qiskit components\n",
    "\n",
    "print(\"Qiskit components and versions:\")\n",
    "print(\"===============================\")\n",
    "\n",
    "for i in versions:\n",
    "    print (i, versions[i])"
   ]
  },
  {
   "cell_type": "markdown",
   "metadata": {
    "pycharm": {
     "name": "#%% md\n"
    }
   },
   "source": [
    "Let's try to obtain the version for a qiskit component: qiskit-aer"
   ]
  },
  {
   "cell_type": "code",
   "execution_count": null,
   "metadata": {
    "pycharm": {
     "name": "#%%\n"
    }
   },
   "outputs": [],
   "source": [
    "print(qiskit.__qiskit_version__[\"qiskit-aer\"])"
   ]
  },
  {
   "cell_type": "code",
   "execution_count": 9,
   "metadata": {
    "pycharm": {
     "name": "#%%\n"
    }
   },
   "outputs": [
    {
     "ename": "AttributeError",
     "evalue": "'QiskitVersion' object has no attribute 'qiskit'",
     "output_type": "error",
     "traceback": [
      "\u001B[0;31m---------------------------------------------------------------------------\u001B[0m",
      "\u001B[0;31mAttributeError\u001B[0m                            Traceback (most recent call last)",
      "\u001B[0;32m<ipython-input-9-0676d6fb2e0e>\u001B[0m in \u001B[0;36m<module>\u001B[0;34m\u001B[0m\n\u001B[0;32m----> 1\u001B[0;31m \u001B[0mprint\u001B[0m\u001B[0;34m(\u001B[0m\u001B[0mqiskit\u001B[0m\u001B[0;34m.\u001B[0m\u001B[0m__qiskit_version__\u001B[0m\u001B[0;34m.\u001B[0m\u001B[0mqiskit\u001B[0m\u001B[0;34m-\u001B[0m\u001B[0maer\u001B[0m\u001B[0;34m)\u001B[0m\u001B[0;34m\u001B[0m\u001B[0;34m\u001B[0m\u001B[0m\n\u001B[0m",
      "\u001B[0;31mAttributeError\u001B[0m: 'QiskitVersion' object has no attribute 'qiskit'"
     ]
    }
   ],
   "source": [
    "print(qiskit.__qiskit_version__.qiskit-aer)"
   ]
  },
  {
   "cell_type": "code",
   "execution_count": 13,
   "metadata": {
    "pycharm": {
     "name": "#%%\n"
    }
   },
   "outputs": [
    {
     "name": "stderr",
     "output_type": "stream",
     "text": [
      "UsageError: Line magic function `%qiskit_version_table[\"qiskit-aer\"]` not found.\n"
     ]
    }
   ],
   "source": [
    "%qiskit_version_table[\"qiskit-aer\"]"
   ]
  },
  {
   "cell_type": "code",
   "execution_count": 11,
   "metadata": {
    "pycharm": {
     "name": "#%%\n"
    }
   },
   "outputs": [
    {
     "name": "stderr",
     "output_type": "stream",
     "text": [
      "UsageError: Line magic function `%qiskit_version_table.qiskit-aer` not found.\n"
     ]
    }
   ],
   "source": [
    "%qiskit_version_table.qiskit-aer\n"
   ]
  }
 ],
 "metadata": {
  "kernelspec": {
   "display_name": "Python 3",
   "language": "python",
   "name": "python3"
  },
  "language_info": {
   "codemirror_mode": {
    "name": "ipython",
    "version": 3
   },
   "file_extension": ".py",
   "mimetype": "text/x-python",
   "name": "python",
   "nbconvert_exporter": "python",
   "pygments_lexer": "ipython3",
   "version": "3.9.2"
  }
 },
 "nbformat": 4,
 "nbformat_minor": 1
}